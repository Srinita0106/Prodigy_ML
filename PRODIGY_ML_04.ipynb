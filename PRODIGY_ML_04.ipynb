{
 "cells": [
  {
   "cell_type": "markdown",
   "id": "e2ed180c",
   "metadata": {},
   "source": [
    "# Develop a hand gesture recognition model that can accurately identify and classify different hand gestures from image or video data, enabling intuitive human-computer interaction and gesture-based control systems."
   ]
  },
  {
   "cell_type": "code",
   "execution_count": 2,
   "id": "5d887fcb",
   "metadata": {},
   "outputs": [],
   "source": [
    "import os\n",
    "import numpy as np\n",
    "import tensorflow as tf\n",
    "from tensorflow import keras\n",
    "from tensorflow.keras import layers\n",
    "from tensorflow.keras.preprocessing.image import ImageDataGenerator\n"
   ]
  },
  {
   "cell_type": "code",
   "execution_count": 2,
   "id": "c476a772",
   "metadata": {},
   "outputs": [],
   "source": [
    "# Data directory\n",
    "data_dir = 'C:/Users/jssri/Downloads/leapGestRecog'"
   ]
  },
  {
   "cell_type": "code",
   "execution_count": 4,
   "id": "223178d8",
   "metadata": {},
   "outputs": [
    {
     "name": "stdout",
     "output_type": "stream",
     "text": [
      "Found 16000 images belonging to 10 classes.\n",
      "Found 4000 images belonging to 10 classes.\n"
     ]
    }
   ],
   "source": [
    "# Data preprocessing\n",
    "batch_size = 32\n",
    "image_size = (64, 64)\n",
    "\n",
    "datagen = ImageDataGenerator(\n",
    "    rescale=1./255,\n",
    "    validation_split=0.2\n",
    ")\n",
    "\n",
    "train_generator = datagen.flow_from_directory(\n",
    "    data_dir,\n",
    "    target_size=image_size,\n",
    "    batch_size=batch_size,\n",
    "    class_mode='categorical',\n",
    "    subset='training'\n",
    ")\n",
    "\n",
    "validation_generator = datagen.flow_from_directory(\n",
    "    data_dir,\n",
    "    target_size=image_size,\n",
    "    batch_size=batch_size,\n",
    "    class_mode='categorical',\n",
    "    subset='validation'\n",
    ")"
   ]
  },
  {
   "cell_type": "code",
   "execution_count": 5,
   "id": "5b6211f1",
   "metadata": {},
   "outputs": [],
   "source": [
    "# Model architecture\n",
    "model = keras.Sequential([\n",
    "    layers.Conv2D(32, (3, 3), activation='relu', input_shape=(image_size[0], image_size[1], 3)),\n",
    "    layers.MaxPooling2D((2, 2)),\n",
    "    layers.Conv2D(64, (3, 3), activation='relu'),\n",
    "    layers.MaxPooling2D((2, 2)),\n",
    "    layers.Flatten(),\n",
    "    layers.Dense(128, activation='relu'),\n",
    "    layers.Dense(10, activation='softmax')  # 10 classes for gestures\n",
    "])"
   ]
  },
  {
   "cell_type": "code",
   "execution_count": 6,
   "id": "95ebe553",
   "metadata": {},
   "outputs": [
    {
     "name": "stdout",
     "output_type": "stream",
     "text": [
      "Epoch 1/10\n",
      "500/500 [==============================] - 530s 1s/step - loss: 0.2195 - accuracy: 0.9311 - val_loss: 2.2926 - val_accuracy: 0.6925\n",
      "Epoch 2/10\n",
      "500/500 [==============================] - 408s 815ms/step - loss: 0.0272 - accuracy: 0.9896 - val_loss: 2.3260 - val_accuracy: 0.6428\n",
      "Epoch 3/10\n",
      "500/500 [==============================] - 75s 150ms/step - loss: 0.0208 - accuracy: 0.9904 - val_loss: 1.9497 - val_accuracy: 0.6712\n",
      "Epoch 4/10\n",
      "500/500 [==============================] - 77s 155ms/step - loss: 0.0186 - accuracy: 0.9906 - val_loss: 1.9066 - val_accuracy: 0.6898\n",
      "Epoch 5/10\n",
      "500/500 [==============================] - 64s 127ms/step - loss: 0.0178 - accuracy: 0.9898 - val_loss: 2.2109 - val_accuracy: 0.7050\n",
      "Epoch 6/10\n",
      "500/500 [==============================] - 61s 121ms/step - loss: 0.0183 - accuracy: 0.9899 - val_loss: 2.3085 - val_accuracy: 0.6490\n",
      "Epoch 7/10\n",
      "500/500 [==============================] - 62s 124ms/step - loss: 0.0276 - accuracy: 0.9881 - val_loss: 1.3231 - val_accuracy: 0.7550\n",
      "Epoch 8/10\n",
      "500/500 [==============================] - 61s 121ms/step - loss: 0.0161 - accuracy: 0.9907 - val_loss: 1.2599 - val_accuracy: 0.7657\n",
      "Epoch 9/10\n",
      "500/500 [==============================] - 61s 122ms/step - loss: 0.0153 - accuracy: 0.9904 - val_loss: 1.2032 - val_accuracy: 0.7660\n",
      "Epoch 10/10\n",
      "500/500 [==============================] - 61s 121ms/step - loss: 0.0155 - accuracy: 0.9908 - val_loss: 1.2203 - val_accuracy: 0.7638\n"
     ]
    },
    {
     "data": {
      "text/plain": [
       "<keras.src.callbacks.History at 0x1f7b872d810>"
      ]
     },
     "execution_count": 6,
     "metadata": {},
     "output_type": "execute_result"
    }
   ],
   "source": [
    "# Compile the model\n",
    "model.compile(optimizer='adam',\n",
    "              loss='categorical_crossentropy',\n",
    "              metrics=['accuracy'])\n",
    "\n",
    "# Training the model\n",
    "model.fit(train_generator, epochs=10, validation_data=validation_generator)\n"
   ]
  },
  {
   "cell_type": "code",
   "execution_count": 7,
   "id": "63e6352d",
   "metadata": {},
   "outputs": [
    {
     "name": "stdout",
     "output_type": "stream",
     "text": [
      "125/125 [==============================] - 21s 167ms/step - loss: 1.2203 - accuracy: 0.7638\n",
      "Test accuracy: 0.7637500166893005\n"
     ]
    }
   ],
   "source": [
    "# Model evaluation\n",
    "test_loss, test_accuracy = model.evaluate(validation_generator)\n",
    "print(f'Test accuracy: {test_accuracy}')"
   ]
  },
  {
   "cell_type": "code",
   "execution_count": 8,
   "id": "f1f6257e",
   "metadata": {},
   "outputs": [
    {
     "name": "stderr",
     "output_type": "stream",
     "text": [
      "C:\\Users\\jssri\\anaconda3\\Lib\\site-packages\\keras\\src\\engine\\training.py:3000: UserWarning: You are saving your model as an HDF5 file via `model.save()`. This file format is considered legacy. We recommend using instead the native Keras format, e.g. `model.save('my_model.keras')`.\n",
      "  saving_api.save_model(\n"
     ]
    }
   ],
   "source": [
    "# Save the model\n",
    "model.save('hand_gesture_recognition_model.h5')"
   ]
  },
  {
   "cell_type": "markdown",
   "id": "ba65cb43",
   "metadata": {},
   "source": [
    "# Testing the model "
   ]
  },
  {
   "cell_type": "code",
   "execution_count": 9,
   "id": "e2e99133",
   "metadata": {},
   "outputs": [],
   "source": [
    "from tensorflow import keras\n",
    "\n",
    "# Load the saved model\n",
    "model = keras.models.load_model('hand_gesture_recognition_model.h5')\n"
   ]
  },
  {
   "cell_type": "code",
   "execution_count": 10,
   "id": "f8ce506f",
   "metadata": {},
   "outputs": [],
   "source": [
    "from tensorflow.keras.preprocessing import image\n",
    "import numpy as np\n",
    "\n",
    "# Load and preprocess the new image\n",
    "img_path = 'C:/Users/jssri/Downloads/hand.jpeg'\n",
    "img = image.load_img(img_path, target_size=(64, 64))\n",
    "img_array = image.img_to_array(img)\n",
    "img_array = np.expand_dims(img_array, axis=0)\n",
    "img_array /= 255.0  # Normalize pixel values\n"
   ]
  },
  {
   "cell_type": "code",
   "execution_count": 13,
   "id": "af4264af",
   "metadata": {},
   "outputs": [
    {
     "name": "stdout",
     "output_type": "stream",
     "text": [
      "1/1 [==============================] - 0s 37ms/step\n",
      "5\n",
      "Predicted class: Index\n",
      "Probability: 0.14\n"
     ]
    }
   ],
   "source": [
    "# Make predictions\n",
    "predictions = model.predict(img_array)\n",
    "\n",
    "# Get the predicted class index\n",
    "predicted_class_index = np.argmax(predictions)\n",
    "print(predicted_class_index)\n",
    "\n",
    "# Map the class index to a human-readable label\n",
    "class_labels = ['Palm', 'I', 'Fist', 'Fist Moved','Thumb','Index','ok','Palm Moved','c','Down']  # Define your gesture labels\n",
    "predicted_class_label = class_labels[predicted_class_index]\n",
    "\n",
    "# Print the predicted class label and the associated probability\n",
    "print(f'Predicted class: {predicted_class_label}')\n",
    "print(f'Probability: {predictions[0][predicted_class_index]:.2f}')\n"
   ]
  },
  {
   "cell_type": "code",
   "execution_count": null,
   "id": "0d46144f",
   "metadata": {},
   "outputs": [],
   "source": []
  }
 ],
 "metadata": {
  "kernelspec": {
   "display_name": "Python 3 (ipykernel)",
   "language": "python",
   "name": "python3"
  },
  "language_info": {
   "codemirror_mode": {
    "name": "ipython",
    "version": 3
   },
   "file_extension": ".py",
   "mimetype": "text/x-python",
   "name": "python",
   "nbconvert_exporter": "python",
   "pygments_lexer": "ipython3",
   "version": "3.11.4"
  }
 },
 "nbformat": 4,
 "nbformat_minor": 5
}
